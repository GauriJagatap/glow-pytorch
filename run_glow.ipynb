{
 "cells": [
  {
   "cell_type": "code",
   "execution_count": 3,
   "metadata": {},
   "outputs": [],
   "source": [
    "import os\n",
    "import vision\n",
    "from docopt import docopt\n",
    "from torchvision import transforms\n",
    "from glow.builder import build\n",
    "from glow.trainer import Trainer\n",
    "from glow.config import JsonConfig\n",
    "import cv2\n",
    "import random\n",
    "import torch\n",
    "import numpy as np"
   ]
  },
  {
   "cell_type": "markdown",
   "metadata": {},
   "source": [
    "# functions"
   ]
  },
  {
   "cell_type": "code",
   "execution_count": 12,
   "metadata": {},
   "outputs": [],
   "source": [
    "def run_z(graph, z):\n",
    "    graph.eval()\n",
    "    x = graph(z=torch.tensor([z]).cuda(), eps_std=0.3, reverse=True)\n",
    "    img = x[0].permute(1, 2, 0).detach().cpu().numpy()\n",
    "    img = img[:, :, ::-1]\n",
    "    img = cv2.resize(img, (256, 256))\n",
    "    return img"
   ]
  },
  {
   "cell_type": "markdown",
   "metadata": {},
   "source": [
    "# load data"
   ]
  },
  {
   "cell_type": "code",
   "execution_count": 6,
   "metadata": {},
   "outputs": [
    {
     "name": "stdout",
     "output_type": "stream",
     "text": [
      "[Builder]: Found 1 gpu\n",
      "[Builder]: cuda:1 is not found, ignore.\n",
      "[Builder]: cuda:2 is not found, ignore.\n",
      "[Builder]: cuda:3 is not found, ignore.\n",
      "[Checkpoint]: Load ./results/celeba/trained.pkg successfully\n",
      "[Builder]: Use cuda [0] to train, use 0 to load data and get loss.\n",
      "Begin to parse all image attrs\n",
      "Find 202599 images, with 40 attrs\n"
     ]
    }
   ],
   "source": [
    "hparams = JsonConfig(\"hparams/celeba1.json\")\n",
    "dataset = vision.Datasets[\"celeba\"]\n",
    "dataset_root = './dataset/CelebA'\n",
    "# set transform of dataset\n",
    "transform = transforms.Compose([\n",
    "transforms.CenterCrop(hparams.Data.center_crop),\n",
    "        transforms.Resize(hparams.Data.resize),\n",
    "        transforms.ToTensor()])\n",
    "# build\n",
    "graph = build(hparams, False)[\"graph\"]\n",
    "dataset = dataset(dataset_root, transform=transform)"
   ]
  },
  {
   "cell_type": "code",
   "execution_count": 7,
   "metadata": {},
   "outputs": [
    {
     "name": "stdout",
     "output_type": "stream",
     "text": [
      "Load Z from ./celeba_z\n"
     ]
    }
   ],
   "source": [
    "# get Z\n",
    "z_dir = './celeba_z'\n",
    "if not os.path.exists(z_dir):\n",
    "    print(\"Generate Z to {}\".format(z_dir))\n",
    "    os.makedirs(z_dir)\n",
    "    generate_z = True\n",
    "    delta_Z = graph.generate_attr_deltaz(dataset)\n",
    "    for i, z in enumerate(delta_Z):\n",
    "        np.save(os.path.join(z_dir, \"detla_z_{}.npy\".format(i)), z)\n",
    "    print(\"Finish generating\")\n",
    "else:\n",
    "    print(\"Load Z from {}\".format(z_dir))\n",
    "    generate_z = False\n",
    "    # try to load\n",
    "    try:\n",
    "        delta_Z = []\n",
    "        for i in range(hparams.Glow.y_classes):\n",
    "            z = np.load(os.path.join(z_dir, \"detla_z_{}.npy\".format(i)))\n",
    "            delta_Z.append(z)\n",
    "    except FileNotFoundError:\n",
    "        # need to generate\n",
    "        generate_z = True\n",
    "        print(\"Failed to load {} Z\".format(hparams.Glow.y_classes))\n",
    "        quit()   "
   ]
  },
  {
   "cell_type": "code",
   "execution_count": 10,
   "metadata": {},
   "outputs": [
    {
     "name": "stdout",
     "output_type": "stream",
     "text": [
      "No. of images to choose from: 202599\n",
      "No. of attributes to choose from: 40\n",
      "Available attibutes: ['5_o_Clock_Shadow', 'Arched_Eyebrows', 'Attractive', 'Bags_Under_Eyes', 'Bald', 'Bangs', 'Big_Lips', 'Big_Nose', 'Black_Hair', 'Blond_Hair', 'Blurry', 'Brown_Hair', 'Bushy_Eyebrows', 'Chubby', 'Double_Chin', 'Eyeglasses', 'Goatee', 'Gray_Hair', 'Heavy_Makeup', 'High_Cheekbones', 'Male', 'Mouth_Slightly_Open', 'Mustache', 'Narrow_Eyes', 'No_Beard', 'Oval_Face', 'Pale_Skin', 'Pointy_Nose', 'Receding_Hairline', 'Rosy_Cheeks', 'Sideburns', 'Smiling', 'Straight_Hair', 'Wavy_Hair', 'Wearing_Earrings', 'Wearing_Hat', 'Wearing_Lipstick', 'Wearing_Necklace', 'Wearing_Necktie', 'Young']\n"
     ]
    }
   ],
   "source": [
    "print(\"No. of images to choose from:\", len(dataset))\n",
    "print(\"No. of attributes to choose from:\", len(delta_Z))\n",
    "print('Available attibutes:',dataset.attrs)"
   ]
  },
  {
   "cell_type": "code",
   "execution_count": 15,
   "metadata": {},
   "outputs": [],
   "source": [
    "base_index = 2\n",
    "attr_index = 4\n",
    "attr_name = dataset.attrs[attr_index]\n",
    "z_delta = delta_Z[attr_index]\n",
    "\n",
    "graph.eval()\n",
    "z_base = graph.generate_z(dataset[base_index][\"x\"])\n",
    "# begin to generate new image\n",
    "images = []\n",
    "names = []\n",
    "images.append(run_z(graph, z_base))\n",
    "names.append(\"reconstruct_origin\")\n",
    "interpolate_n = 5\n",
    "for i in range(0, interpolate_n+1):\n",
    "    d = z_delta * float(i) / float(interpolate_n)\n",
    "    images.append(run_z(graph, z_base + d))\n",
    "    names.append(\"attr_{}_{}\".format(attr_name, interpolate_n + i))\n",
    "    if i > 0:\n",
    "        new_image = run_z(graph, z_base - d)\n",
    "        images.append(new_image)\n",
    "        names.append(\"attr_{}_{}\".format(attr_name, interpolate_n - i))\n",
    "        cv2.namedWindow(str(i))\n",
    "        cv2.imshow(str(i),new_image)\n",
    "#save_images(images, names)"
   ]
  },
  {
   "cell_type": "code",
   "execution_count": null,
   "metadata": {},
   "outputs": [],
   "source": []
  }
 ],
 "metadata": {
  "kernelspec": {
   "display_name": "Python 3",
   "language": "python",
   "name": "python3"
  },
  "language_info": {
   "codemirror_mode": {
    "name": "ipython",
    "version": 3
   },
   "file_extension": ".py",
   "mimetype": "text/x-python",
   "name": "python",
   "nbconvert_exporter": "python",
   "pygments_lexer": "ipython3",
   "version": "3.6.6"
  }
 },
 "nbformat": 4,
 "nbformat_minor": 2
}
